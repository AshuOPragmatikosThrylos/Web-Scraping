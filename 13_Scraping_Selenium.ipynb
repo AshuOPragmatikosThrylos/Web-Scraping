{
 "cells": [
  {
   "cell_type": "code",
   "execution_count": null,
   "metadata": {},
   "outputs": [],
   "source": [
    "#dynamically loaded pages(JavaScript) cannot be scraped by normal method learnt till now....\n",
    "#as the engine to execute JS is only contained in browsers...so it cannot be done through program\n",
    "# this is where selenium comes into picture"
   ]
  },
  {
   "cell_type": "code",
   "execution_count": null,
   "metadata": {},
   "outputs": [],
   "source": [
    "from selenium import webdriver"
   ]
  },
  {
   "cell_type": "code",
   "execution_count": null,
   "metadata": {},
   "outputs": [],
   "source": [
    "from selenium.webdriver.common.keys import Keys"
   ]
  },
  {
   "cell_type": "code",
   "execution_count": null,
   "metadata": {},
   "outputs": [],
   "source": [
    "driver = webdriver.Chrome(executable_path=\"C:\\\\chromedriver.exe\")\n",
    "\n",
    "\n",
    "driver.get(\"https://www.google.com/\")\n",
    "\n",
    "# elem = driver.find_element_by_class_name('gLFyf gsfi')....this class for google search box changes\n",
    "elem = driver.find_element_by_xpath('//*[@id=\"tsf\"]/div[2]/div[1]/div[1]/div/div[2]/input')#xpath of search box..xpath is relative path of element\n",
    "elem.send_keys(\"Flower\")\n",
    "\n",
    "elem.send_keys(Keys.RETURN)#enter key stroke\n"
   ]
  },
  {
   "cell_type": "code",
   "execution_count": null,
   "metadata": {},
   "outputs": [],
   "source": []
  },
  {
   "cell_type": "code",
   "execution_count": 1,
   "metadata": {},
   "outputs": [],
   "source": [
    "from selenium import webdriver\n",
    "from selenium.webdriver.common.keys import Keys\n",
    "\n",
    "driver = webdriver.Chrome(executable_path=\"C:\\\\chromedriver.exe\")\n",
    "\n",
    "driver.get(\"https://samprit.in/\")\n",
    "\n",
    "elem1 = driver.find_element_by_xpath('/html/body/main/section[6]/div/div/div[2]/form/div/div[1]/div/input')\n",
    "elem1.send_keys('ashutosh3830258@gmail.com')\n",
    "\n",
    "elem2 = driver.find_element_by_xpath('/html/body/main/section[6]/div/div/div[2]/form/div/div[2]/div/textarea')\n",
    "elem2.send_keys('Gave feedback in college too but first time feedback was fun')\n",
    "\n",
    "elem3 = driver.find_element_by_xpath('/html/body/main/section[6]/div/div/div[2]/form/div/button')\n",
    "elem3.send_keys(Keys.RETURN)"
   ]
  },
  {
   "cell_type": "code",
   "execution_count": null,
   "metadata": {},
   "outputs": [],
   "source": []
  },
  {
   "cell_type": "code",
   "execution_count": null,
   "metadata": {},
   "outputs": [],
   "source": [
    "driver = webdriver.Chrome(executable_path=\"C:\\\\chromedriver.exe\")\n",
    "\n",
    "\n",
    "driver.get(\"https://samprit.in/\")\n",
    "\n",
    "print(driver.page_source)#pehle dynamically loaded pages aise data send nhi kr rha tha ...ab selenium k madad se browser se execute krane pr ..data bhej rha h\n",
    "\n"
   ]
  },
  {
   "cell_type": "code",
   "execution_count": null,
   "metadata": {},
   "outputs": [],
   "source": []
  },
  {
   "cell_type": "code",
   "execution_count": 36,
   "metadata": {},
   "outputs": [
    {
     "name": "stdout",
     "output_type": "stream",
     "text": [
      "Class Ki Topper Aur Last Bencher - Amit Bhadana----->6.8M views\n",
      "MUMMY KA BIRTHDAY | Birthday Special Short Movie | Family Comedy | Aayu and Pihu Show----->3.6M views\n",
      "Shaadi Ki Shopping | शादी की खरीदारी | The Timeliners----->1.7M views\n",
      "Jasmine Sandlas - Guglu Muglu (Official Video)----->516K views\n",
      "Awkward Conversations With Girlfriend | E03: Password | TSP Originals | E04 out on Jan 31st----->1.7M views\n",
      "Ab Na Phir Se - Hacked | Hina Khan | Rohan Shah | Vikram Bhatt | Yasser Desai | Amjad Nadeem Aamir----->4.1M views\n",
      "Prime Time With Ravish, Jan 24, 2020 | पश्चिमी मीडिया के कवर पर क्यों बदली मोदी और भारत की छवि?----->1M views\n",
      "Shayad - Love Aaj Kal | Kartik | Sara | Arushi | Pritam | Arijit Singh----->1.1M views\n",
      "I WANTED SOME DRAGON BALLZ TONIGHT | NO PROMOTIONS----->28M views\n",
      "Channa Ve (Official Video) | Sufna | B Praak | Jaani | Ammy Virk | Tania | Latest Punjabi Songs 2020----->9.6M views\n",
      "Shoot Da Order : Jass Manak, Jagpal Sandhu (Full Song) Jayy Randhawa | Deep Jandu | Shooter | 21 Feb----->819K views\n",
      "Live: IND Vs NZ 1st T20 | Live Scores and Commentary | 2020 Series----->1.5M views\n",
      "Hindustani Video | Street Dancer 3D | Varun D, Shraddha K | Shankar Mahadevan, Udit Narayan----->230K views\n",
      "Kumkum Bhagya | Kundali Bhagya | 27th January, Monday, 9 PM - 10:30 PM | Promo | Zee TV----->3.2M views\n",
      "EMIWAY - THE STORY BEHIND MACHAYENGE----->733K views\n",
      "OLE OLE 2.0 - Jawaani Jaaneman | Saif Ali Khan | Tabu | Alaya F | Amit Mishra, Tanishk Bagchi----->260K views\n",
      "LIVE: Ind vs NZ: Rahul के बाद Shreyas का धमाका, INDIA ने 19वें ओवर में चेज़ किया 204 का स्कोर |----->1.6M views\n",
      "The Kapil Sharma Show - Movie \"Tanhaji The Unsung Warrior\" Episode Uncensored | Ajay Devgn, Kajol----->16M views\n",
      "Vande Mataram | Dhaakad Song | Desh Bhakti Story | Happy Republic Day | Ishu Kuanl Payal | Mk studio----->737K views\n",
      "'देश विरोधी' बयान देने वाले Faizul Hasan  से जब पूछा धमकी किसको दी थी, तो सुनिए जवाब----->575K views\n",
      "Types Of Kaamwali Bai | SAMREEN ALI----->11M views\n",
      "Hungama 2 | Rajpal Yadav's Choice Of Female Lead | The Kapil Sharma Show | Sat - Sun At 9:30 PM----->303K views\n",
      "ए शोना A Shona - Full Video | शेर Singh | Pawan Singh | Priyanka Singh | New Bhojpuri Video Song----->482K views\n",
      "Cricket Ki Baat: Virat Kohli की टीम इंडिया ने New Zealand में हिंदुस्तान की बादशाहत का किया एलान----->242K views\n",
      "Lohardaga:VHP-BJP की pro-CAA rally पर stone pelting - दंगा करने वालों पर चुप Hemant Soren Government----->4.8M views\n",
      "Indian BRIDAL Makeup - Episode 01 | दुल्हन MAKEUP सीखें | Step By Step Tutorial | #Anaysa----->2.4M views\n",
      "Bigg Boss 13 Review: Rashami Ne Kaha Vishal Ko Weak,Par Salman Ne Kaha Sabse Kam Vote Rashami Ko Hai----->256K views\n",
      "MensXP | Honest Review | Street Dancer 3D----->518K views\n",
      "Kya Maal Hai : Standup Comedy by Alka Roy - Ab India Hasega @ Comedy Studio----->393K views\n",
      "Cricbuzz LIVE हिन्दी: न्यूज़ीलैंड v भारत, पहला T20I, पोस्ट-मैच शो----->235K views\n",
      "Mohabbat Na Kariyo - EP 19 Teaser - 24th Jan 2020 - HAR PAL GEO DRAMAS----->288K views\n",
      "Kejriwal 5 year Report Card | Analysis by Dhruv Rathee----->721K views\n",
      "Gym Vim Pyar Vyar II Nazarbattu II Pawan Yadav----->259K views\n",
      "Shaheen Bagh से Sudan तक क्यों सड़कों पर हैं महिलाएं?(BBC Hindi)----->217K views\n",
      "Stranger Song | Diljit Dosanjh | Simar Kaur | Alfaaz | Roopi Gill | New Punjabi Song 2020----->1.1M views\n",
      "Top 5 Famous Street Food In Amritsar 😍----->338K views\n",
      "Dance+ 5 | Raghav impresses Shah Rukh Khan----->117K views\n",
      "Rs 5K Vs Rs 5 Lakh Sherwani: Which Is Better? | Ok Tested----->9.3M views\n",
      "REACTING TO HATE COMMENTS ON MY MUSIC VIDEO !!!----->243K views\n",
      "Street Dancers VS Baba Jackson | Varun Dhawan | Shraddha Kapoor | Red FM----->371K views\n",
      "Bigg Boss 13 Review: Asim Shows His Shoes To Siddharth, Siddharth Loses Temper----->1.2M views\n",
      "Shaheen Bagh जाएंगे Ramdev? CAA पर क्या बोले? EXCLUSIVE इंटरव्यू----->406K views\n",
      "BHAI BHEN KA PYAR || EVERY BROTHER SISTER  || Virat Beniwal----->570K views\n",
      "3D ANIM COMEDY - CRICKET || INDIA VS NEWZEALAND || LAST OVER----->136K views\n",
      "FilterCopy | Struggles Only MBA Graduates Will Understand | Ft. Vidushi Gaur and Anant Kaushik----->597K views\n",
      "CAA का असर, India से भागने लगे Bangladeshi | Refugee | Impact | illegal Immigrants----->168K views\n",
      "People On Their Birthdays || Rachit Rojha X JaiPuru----->214K views\n",
      "Zamana | (Full HD) | Happy Raikoti Ft.Afsana Khan | Ginni Kapoor | Punjabi Song 2020 | Jass Records----->4M views\n",
      "Street Dancer 3 | Review by KRK | Bollywood Movie Reviews | Latest Reviews----->198K views\n",
      "Hacked | Official Trailer | Hina Khan | Rohan Shah | Vikram Bhatt | 7th Feb----->332K views\n",
      "Kunwari Bohu | Full Ep 403 | 23rd jan 2020 | Odia Serial – TarangTV----->424K views\n",
      "Last Wish Of Nirbhaya Convicts, What Will It Be----->613K views\n",
      "LAGDI LAHORE DI | Street Dancer 3D | Varun D, Shraddha K | Guru Randhawa, Tulsi Kumar | Sachin-Jigar----->34M views\n",
      "Love Aaj Kal - Official Trailer | Kartik, Sara, Randeep, Arushi | Imtiaz Ali | Dinesh Vijan | 14 Feb----->40M views\n",
      "Gote Khusi Aau - Mantu Chhuria - Odia New Masti Song - Studio Version----->1.1M views\n",
      "আজি নৱগ্রহ শ্মশানত শেষকৃত্য সম্পন্ন কৰা হয় ঈশান আৰু ইভানৰ।----->189K views\n",
      "Last Letter Written To Nirbhaya Case Convicts Kin By Tihar Jail Authorities----->414K views\n",
      "Jhanjar (Full Video) Karan Aujla | Desi Crew | Latest Punjabi Songs 2020----->11M views\n",
      "Babushan Mohanty New Song Aaji Mun Pieni | Uttam Mohanty Evergreen Song | Sidharth Music----->22M views\n",
      "Zindagi - CARRYMINATI X Wily Frenzy----->780K views\n",
      "Master! Master! Teach Me Kung Fu | Comedy | Dreamz Unlimited----->544K views\n",
      "Gote Khusi Au | Odia Masti Song | Humane Sagar | Aseema Panda | Lubun-Tubun | Studio Version----->5.9M views\n",
      "Bharti Mocks The Cast Of Hungama 2 | The Kapil Sharma Show | Saturday - Sunday At 9:30 PM | Promo----->313K views\n",
      "MATHS HOMEWORK - Good vs Bad Teachers .. | #SchoolLife #Fun #Sketch #Anaysa #MyMissAnand----->1.9M views\n",
      "SUPERSTAR - Riyaz Aly & Anushka Sen | Neha Kakkar | Vibhor Parashar | Sarmad | Raghav | Gaana----->5.1M views\n",
      "BB Ki Vines- | What The Bunk |----->41M views\n",
      "Lunar New Year Storytime! EXCLUSIVE Warrior Queen skin (Clash of Clans)----->10M views\n",
      "Babusan&Sheetal's Hit Comedy - Tame Kan Mo Swami ?ତମେ କଣ ମୋ ସ୍ୱାମୀ ? Bhalapae Tate 100 Ru 100----->119K views\n",
      "Dhanya to Terechha Chahani || Asima || Papu Pom Pom || Papu PoM PoM Creations----->7.5M views\n",
      "Satisfya Female Version | Gaddi Lamborghini | Imran Khan | Cover by AiSh----->977K views\n",
      "DIY Clothing and Fashion Hacks || Cool Clothing Ideas by Crafty Panda----->14M views\n",
      "EMIWAY - BHAROSA (OFFICIAL MUSIC VIDEO)----->1.9M views\n",
      "DIRTY POLITICS Part-2 | Round2Hell | R2H----->3.7M views\n",
      "Amma Nanna O Sankranthi | Full Episode | Sankranthi Special Event 2020 | ETV Telugu----->13M views\n",
      "#AlaVaikunthapurramuloo - ButtaBomma Video Song || Allu Arjun || Trivikram | Thaman Ft. Armaan Malik----->10M views\n",
      "Dhee Champions | 22nd January 2020  | Full Episode | ETV Telugu----->19M views\n",
      "MAKE JOKE OF ||MJO|| - JAIL KI ROTI----->3.5M views\n",
      "Behan Bhai Ki School Life | BakLol Video----->3.1M views\n",
      "Naagin 4 - Episode -11 & 12 - Recap - नागिन 4----->10M views\n",
      "ब्रह्मानंदम (Brahmanandam) लेटेस्ट नई साउथ डबेड हिंदी कॉमेडी मूवी 2020 | नई सुपरहिट डब फिल्म----->1.2M views\n",
      "MOM's During WINTERS .. | #Fun #Sketch #RolePlay #Anaysa #MyMissAnand #ShrutiArjunAnand----->4.7M views\n",
      "गिरफ्तारी के वक्त Davinder ने क्यों कहा था- सर, ये गेम है आप खराब मत करो । Special Report----->3.8M views\n",
      "FilterCopy | Exam Ka Pressure | Ft. Anud Singh Dhaka and Viraj Ghelani----->1.5M views\n"
     ]
    }
   ],
   "source": [
    "from selenium import webdriver\n",
    "from selenium.webdriver.common.keys import Keys\n",
    "import bs4\n",
    "\n",
    "driver = webdriver.Chrome(executable_path=\"C:\\\\chromedriver.exe\")\n",
    "\n",
    "driver.get('https://www.youtube.com/feed/trending')\n",
    "\n",
    "# elem1 = driver.find_element_by_xpath('/html/body/ytd-app/div/ytd-mini-guide-renderer/div/ytd-mini-guide-entry-renderer[2]/a')\n",
    "# elem1.click()\n",
    "\n",
    "data = driver.page_source   #before doing any other opertion after getting url..get page source as it gets modified...cuz dynamically loaded page\n",
    "soup = bs4.BeautifulSoup(data,'html.parser')\n",
    "\n",
    "videos_titles = soup.find_all('yt-formatted-string',attrs={'class':'style-scope ytd-video-renderer','aria-label':True})\n",
    "views_and_dates = soup.find_all('span',attrs={'class':'style-scope ytd-video-meta-block'})\n",
    "views = []\n",
    "\n",
    "for i in range(0,len(views_and_dates),2):\n",
    "    views.append(views_and_dates[i])\n",
    "    \n",
    "\n",
    "# print(len(views)) #166\n",
    "# print(len(videos_titles)) #83\n",
    "# for item in views:\n",
    "#     print(item)\n",
    "for i in range(len(views)):\n",
    "    print(\"{}----->{}\".format(video_titles[i].get_text(), views[i].get_text()))"
   ]
  },
  {
   "cell_type": "code",
   "execution_count": null,
   "metadata": {},
   "outputs": [],
   "source": []
  },
  {
   "cell_type": "code",
   "execution_count": null,
   "metadata": {},
   "outputs": [],
   "source": [
    "#featured songs of spotify ...title,singer"
   ]
  },
  {
   "cell_type": "code",
   "execution_count": null,
   "metadata": {},
   "outputs": [],
   "source": [
    "#oyo....location from user....hotelname,price....sort"
   ]
  },
  {
   "cell_type": "code",
   "execution_count": null,
   "metadata": {},
   "outputs": [],
   "source": [
    "#login on swiggy....name of restro..on which swiggyit coupon can be applied...on those restaurants...2 different dishes from different category for same restaurant ..combo...max discount "
   ]
  },
  {
   "cell_type": "code",
   "execution_count": 1,
   "metadata": {},
   "outputs": [],
   "source": [
    "from selenium import webdriver\n",
    "from selenium.webdriver.common.keys import Keys\n",
    "import bs4\n",
    "\n",
    "driver = webdriver.Chrome(executable_path=\"C:\\\\chromedriver.exe\")\n",
    "\n",
    "driver.get('https://open.spotify.com/')\n",
    "\n",
    "new_music_friday=driver.find_element_by_xpath('/html/body/div[2]/div/div[4]/div[3]/div[1]/div/div/section/div/section/div/div[3]/div/section/div/div[2]/div/div/div[4]')\n",
    "new_music_friday.click()\n",
    "\n",
    "data = driver.page_source\n",
    "soup = bs4.BeautifulSoup(data,'html.parser')\n"
   ]
  },
  {
   "cell_type": "code",
   "execution_count": null,
   "metadata": {},
   "outputs": [],
   "source": []
  },
  {
   "cell_type": "code",
   "execution_count": 63,
   "metadata": {},
   "outputs": [
    {
     "name": "stdout",
     "output_type": "stream",
     "text": [
      "Enter the location: jaipur\n",
      "('876', 'OYO Flagship 24041 IT Park Road Sitapura')\n",
      "('1899', 'SilverKey Executive Stays 60481 Gayatri Nagar')\n",
      "('1309', 'OYO 38401 Hotel Signature And Restaurant Saver')\n",
      "('2544', 'Collection O 30046 Aroma Residency')\n",
      "('517', 'SPOT ON 60678 Silver Paradise SPOT')\n",
      "('727', 'OYO Flagship 44322 Jagatpura Pg Property')\n",
      "('2628', 'OYO Townhouse 205 Jaipur Airport')\n",
      "('2269', 'Collection O 30719 Jaipur Railway station')\n",
      "('1560', 'OYO 47164 Madhav Palace')\n",
      "('1306', 'OYO 1674 Hotel Tordi Haveli')\n",
      "('1329', 'OYO 8040 Hotel Ananta Inn')\n",
      "('1014', 'OYO 65866 Shagun Home')\n",
      "('1277', 'OYO 30930 Hotel Jaipur Inn')\n",
      "('1401', 'OYO 66940 New Delhi Grand ')\n",
      "('642', 'SPOT ON 62490 Shri Ganesh Guest House SPOT')\n",
      "('808', 'SPOT ON 37356 Hotel Jawahar Palace SPOT')\n",
      "('1307', 'OYO 14565 Hotel Snazzy')\n",
      "('1462', 'OYO 61709 Hotel Gd Palace ')\n",
      "('1374', 'OYO 63014 Laada Palace')\n"
     ]
    }
   ],
   "source": [
    "from selenium import webdriver\n",
    "from selenium.webdriver.common.keys import Keys\n",
    "import bs4\n",
    "\n",
    "location = input(\"Enter the location: \")\n",
    "driver = webdriver.Chrome(executable_path=\"C:\\\\chromedriver.exe\")\n",
    "\n",
    "driver.get('https://www.oyorooms.com/hotels-in-'+location)\n",
    "data = driver.page_source\n",
    "soup = bs4.BeautifulSoup(data,'html.parser')\n",
    "\n",
    "hotel_names = soup.find_all('h3',attrs={'title':True,'class':'listingHotelDescription__hotelName d-textEllipsis'})\n",
    "hotel_prices = soup.find_all('span',attrs={'class':'listingPrice__finalPrice'})\n",
    "lookup = {}\n",
    "\n",
    "for i in range(len(hotel_names)):\n",
    "    lookup.update({hotel_prices[i].get_text().strip('₹'):hotel_names[i].get_text()})\n",
    "# sorted(lookup,reverse=True,key=lambda x:x[0])...sorting me ghapla ho rha h\n",
    "for entry in lookup.items():\n",
    "    print(entry)\n"
   ]
  },
  {
   "cell_type": "code",
   "execution_count": null,
   "metadata": {},
   "outputs": [],
   "source": []
  },
  {
   "cell_type": "markdown",
   "metadata": {},
   "source": [
    "Write a python program to scrape all the restaurant names from Swiggy, on which we can apply 'SWIGGYIT' coupon. Write down the name of the resturant, their rating and the percent of discount user will get after applying the coupon, into a text file."
   ]
  },
  {
   "cell_type": "code",
   "execution_count": 78,
   "metadata": {},
   "outputs": [
    {
     "name": "stdout",
     "output_type": "stream",
     "text": [
      "Enter the delivery_location: jaipur\n"
     ]
    }
   ],
   "source": [
    "from selenium import webdriver\n",
    "from selenium.webdriver.common.keys import Keys\n",
    "import time\n",
    "\n",
    "\n",
    "driver = webdriver.Chrome(executable_path=\"C:\\\\chromedriver.exe\")\n",
    "\n",
    "driver.get('https://www.swiggy.com/restaurants')\n",
    "location = driver.find_element_by_xpath('/html/body/div/div[1]/div[1]/div/div[1]/div[1]/div/div[2]/div/div[1]/input')\n",
    "delivery_location = input('Enter the delivery_location: ')\n",
    "location.send_keys(delivery_location)\n",
    "time.sleep(7)\n",
    "delivery_location_from_menu = driver.find_element_by_xpath('/html/body/div/div[1]/div[1]/div/div[1]/div[1]/div/div[2]/div/div[3]/div[1]')\n",
    "delivery_location_from_menu.click()\n",
    "time.sleep(7)\n",
    "see_all = driver.find_element_by_xpath('/html/body/div[1]/div[1]/div/div/div[4]/div/div/div[1]/div/div/a/div')\n",
    "see_all.click()\n",
    "time.sleep(7)\n",
    "data = driver.page_source\n",
    "soup = bs4.BeautifulSoup(data,'html.parser')\n",
    "all_restros = soup.select('div[class^=\"_1HEuF\"]')\n",
    "\n",
    "restro_name = []\n",
    "rating = []\n",
    "discount = []\n",
    "\n",
    "for restro in all_restros[1:]:\n",
    "    \n",
    "    if 'SWIGGYIT' in restro.get_text():\n",
    "               \n",
    "    \n",
    "        restro_name.append(((restro.select('div.nA6kb'))[0]).get_text())\n",
    "        rating.append((restro.select('div._3Mn31')[0]).get_text()[0:3])\n",
    "        discount.append((((restro.select('div.Zlfdx'))[0]).get_text()).rstrip(' | Use coupon SWIGGYIT'))\n",
    "        \n",
    "        \n",
    "for i in range(len(restro_name)):\n",
    "    with open('SWIGGYIT_restros.txt','a') as f:\n",
    "        f.write('Name: '+ restro_name[i])\n",
    "        f.write('  Rating: '+ rating[i])\n",
    "        f.write('  Discount: '+ discount[i])\n",
    "        f.write('\\n')\n",
    "        \n",
    "        \n"
   ]
  },
  {
   "cell_type": "code",
   "execution_count": null,
   "metadata": {},
   "outputs": [],
   "source": []
  },
  {
   "cell_type": "code",
   "execution_count": 9,
   "metadata": {},
   "outputs": [
    {
     "name": "stdout",
     "output_type": "stream",
     "text": [
      "that way--->Tate McRae--->2:55\n",
      "\n",
      "LOVE IN THE DARK--->Jessie Reyez--->4:00\n",
      "\n",
      "B.I.T.C.H.--->Megan Thee Stallion--->3:03\n",
      "\n",
      "What If I Told You That I Love You--->Ali Gatie--->3:13\n",
      "\n",
      "Forever Yours - Avicii Tribute--->Kygo--->3:13\n",
      "\n",
      "new way--->"
     ]
    },
    {
     "ename": "NoSuchElementException",
     "evalue": "Message: no such element: Unable to locate element: {\"method\":\"xpath\",\"selector\":\"//*[@id=\"main\"]/div/div[4]/div[3]/div[1]/div/div/div[2]/div/section/div/div/div[2]/section/ol/div[6]/li/div[2]/div/div[1]\"}\n  (Session info: chrome=79.0.3945.130)\n",
     "output_type": "error",
     "traceback": [
      "\u001b[1;31m---------------------------------------------------------------------------\u001b[0m",
      "\u001b[1;31mNoSuchElementException\u001b[0m                    Traceback (most recent call last)",
      "\u001b[1;32m<ipython-input-9-62cf43eecf17>\u001b[0m in \u001b[0;36m<module>\u001b[1;34m\u001b[0m\n\u001b[0;32m     23\u001b[0m         \u001b[0mxpath2\u001b[0m \u001b[1;33m=\u001b[0m \u001b[1;34m'/html/body/div[2]/div/div[4]/div[3]/div[1]/div/div/div[2]/div/section/div/div/div[2]/section/ol/div['\u001b[0m\u001b[1;33m+\u001b[0m \u001b[0mstr\u001b[0m\u001b[1;33m(\u001b[0m\u001b[0mi\u001b[0m\u001b[1;33m)\u001b[0m\u001b[1;33m+\u001b[0m\u001b[1;34m']/div/li/div[2]/div/div[2]/span[1]/span/span/a'\u001b[0m\u001b[1;33m\u001b[0m\u001b[1;33m\u001b[0m\u001b[0m\n\u001b[1;32m---> 24\u001b[1;33m         \u001b[0melem2\u001b[0m \u001b[1;33m=\u001b[0m \u001b[0mdriver\u001b[0m\u001b[1;33m.\u001b[0m\u001b[0mfind_element_by_xpath\u001b[0m\u001b[1;33m(\u001b[0m\u001b[0mxpath2\u001b[0m\u001b[1;33m)\u001b[0m\u001b[1;33m\u001b[0m\u001b[1;33m\u001b[0m\u001b[0m\n\u001b[0m\u001b[0;32m     25\u001b[0m         \u001b[0mprint\u001b[0m\u001b[1;33m(\u001b[0m\u001b[0melem2\u001b[0m\u001b[1;33m.\u001b[0m\u001b[0mtext\u001b[0m\u001b[1;33m,\u001b[0m\u001b[0mend\u001b[0m\u001b[1;33m=\u001b[0m\u001b[1;34m\"--->\"\u001b[0m\u001b[1;33m)\u001b[0m\u001b[1;33m\u001b[0m\u001b[1;33m\u001b[0m\u001b[0m\n",
      "\u001b[1;32mF:\\anaconda\\lib\\site-packages\\selenium\\webdriver\\remote\\webdriver.py\u001b[0m in \u001b[0;36mfind_element_by_xpath\u001b[1;34m(self, xpath)\u001b[0m\n\u001b[0;32m    393\u001b[0m         \"\"\"\n\u001b[1;32m--> 394\u001b[1;33m         \u001b[1;32mreturn\u001b[0m \u001b[0mself\u001b[0m\u001b[1;33m.\u001b[0m\u001b[0mfind_element\u001b[0m\u001b[1;33m(\u001b[0m\u001b[0mby\u001b[0m\u001b[1;33m=\u001b[0m\u001b[0mBy\u001b[0m\u001b[1;33m.\u001b[0m\u001b[0mXPATH\u001b[0m\u001b[1;33m,\u001b[0m \u001b[0mvalue\u001b[0m\u001b[1;33m=\u001b[0m\u001b[0mxpath\u001b[0m\u001b[1;33m)\u001b[0m\u001b[1;33m\u001b[0m\u001b[1;33m\u001b[0m\u001b[0m\n\u001b[0m\u001b[0;32m    395\u001b[0m \u001b[1;33m\u001b[0m\u001b[0m\n",
      "\u001b[1;32mF:\\anaconda\\lib\\site-packages\\selenium\\webdriver\\remote\\webdriver.py\u001b[0m in \u001b[0;36mfind_element\u001b[1;34m(self, by, value)\u001b[0m\n\u001b[0;32m    977\u001b[0m             \u001b[1;34m'using'\u001b[0m\u001b[1;33m:\u001b[0m \u001b[0mby\u001b[0m\u001b[1;33m,\u001b[0m\u001b[1;33m\u001b[0m\u001b[1;33m\u001b[0m\u001b[0m\n\u001b[1;32m--> 978\u001b[1;33m             'value': value})['value']\n\u001b[0m\u001b[0;32m    979\u001b[0m \u001b[1;33m\u001b[0m\u001b[0m\n",
      "\u001b[1;32mF:\\anaconda\\lib\\site-packages\\selenium\\webdriver\\remote\\webdriver.py\u001b[0m in \u001b[0;36mexecute\u001b[1;34m(self, driver_command, params)\u001b[0m\n\u001b[0;32m    320\u001b[0m         \u001b[1;32mif\u001b[0m \u001b[0mresponse\u001b[0m\u001b[1;33m:\u001b[0m\u001b[1;33m\u001b[0m\u001b[1;33m\u001b[0m\u001b[0m\n\u001b[1;32m--> 321\u001b[1;33m             \u001b[0mself\u001b[0m\u001b[1;33m.\u001b[0m\u001b[0merror_handler\u001b[0m\u001b[1;33m.\u001b[0m\u001b[0mcheck_response\u001b[0m\u001b[1;33m(\u001b[0m\u001b[0mresponse\u001b[0m\u001b[1;33m)\u001b[0m\u001b[1;33m\u001b[0m\u001b[1;33m\u001b[0m\u001b[0m\n\u001b[0m\u001b[0;32m    322\u001b[0m             response['value'] = self._unwrap_value(\n",
      "\u001b[1;32mF:\\anaconda\\lib\\site-packages\\selenium\\webdriver\\remote\\errorhandler.py\u001b[0m in \u001b[0;36mcheck_response\u001b[1;34m(self, response)\u001b[0m\n\u001b[0;32m    241\u001b[0m             \u001b[1;32mraise\u001b[0m \u001b[0mexception_class\u001b[0m\u001b[1;33m(\u001b[0m\u001b[0mmessage\u001b[0m\u001b[1;33m,\u001b[0m \u001b[0mscreen\u001b[0m\u001b[1;33m,\u001b[0m \u001b[0mstacktrace\u001b[0m\u001b[1;33m,\u001b[0m \u001b[0malert_text\u001b[0m\u001b[1;33m)\u001b[0m\u001b[1;33m\u001b[0m\u001b[1;33m\u001b[0m\u001b[0m\n\u001b[1;32m--> 242\u001b[1;33m         \u001b[1;32mraise\u001b[0m \u001b[0mexception_class\u001b[0m\u001b[1;33m(\u001b[0m\u001b[0mmessage\u001b[0m\u001b[1;33m,\u001b[0m \u001b[0mscreen\u001b[0m\u001b[1;33m,\u001b[0m \u001b[0mstacktrace\u001b[0m\u001b[1;33m)\u001b[0m\u001b[1;33m\u001b[0m\u001b[1;33m\u001b[0m\u001b[0m\n\u001b[0m\u001b[0;32m    243\u001b[0m \u001b[1;33m\u001b[0m\u001b[0m\n",
      "\u001b[1;31mNoSuchElementException\u001b[0m: Message: no such element: Unable to locate element: {\"method\":\"xpath\",\"selector\":\"/html/body/div[2]/div/div[4]/div[3]/div[1]/div/div/div[2]/div/section/div/div/div[2]/section/ol/div[6]/div/li/div[2]/div/div[2]/span[1]/span/span/a\"}\n  (Session info: chrome=79.0.3945.130)\n",
      "\nDuring handling of the above exception, another exception occurred:\n",
      "\u001b[1;31mNoSuchElementException\u001b[0m                    Traceback (most recent call last)",
      "\u001b[1;32m<ipython-input-9-62cf43eecf17>\u001b[0m in \u001b[0;36m<module>\u001b[1;34m\u001b[0m\n\u001b[0;32m     31\u001b[0m     \u001b[1;32mexcept\u001b[0m\u001b[1;33m:\u001b[0m\u001b[1;33m\u001b[0m\u001b[1;33m\u001b[0m\u001b[0m\n\u001b[0;32m     32\u001b[0m         \u001b[0mxpath\u001b[0m \u001b[1;33m=\u001b[0m \u001b[1;34m'//*[@id=\"main\"]/div/div[4]/div[3]/div[1]/div/div/div[2]/div/section/div/div/div[2]/section/ol/div['\u001b[0m \u001b[1;33m+\u001b[0m \u001b[0mstr\u001b[0m\u001b[1;33m(\u001b[0m\u001b[0mi\u001b[0m\u001b[1;33m)\u001b[0m \u001b[1;33m+\u001b[0m \u001b[1;34m']/li/div[2]/div/div[1]'\u001b[0m\u001b[1;33m\u001b[0m\u001b[1;33m\u001b[0m\u001b[0m\n\u001b[1;32m---> 33\u001b[1;33m         \u001b[0melem\u001b[0m \u001b[1;33m=\u001b[0m \u001b[0mdriver\u001b[0m\u001b[1;33m.\u001b[0m\u001b[0mfind_element_by_xpath\u001b[0m\u001b[1;33m(\u001b[0m\u001b[0mxpath\u001b[0m\u001b[1;33m)\u001b[0m\u001b[1;33m\u001b[0m\u001b[1;33m\u001b[0m\u001b[0m\n\u001b[0m\u001b[0;32m     34\u001b[0m         \u001b[0mprint\u001b[0m\u001b[1;33m(\u001b[0m\u001b[0melem\u001b[0m\u001b[1;33m.\u001b[0m\u001b[0mtext\u001b[0m\u001b[1;33m,\u001b[0m\u001b[0mend\u001b[0m\u001b[1;33m=\u001b[0m\u001b[1;34m\"--->\"\u001b[0m\u001b[1;33m)\u001b[0m\u001b[1;33m\u001b[0m\u001b[1;33m\u001b[0m\u001b[0m\n\u001b[0;32m     35\u001b[0m         \u001b[1;32mtry\u001b[0m\u001b[1;33m:\u001b[0m\u001b[1;33m\u001b[0m\u001b[1;33m\u001b[0m\u001b[0m\n",
      "\u001b[1;32mF:\\anaconda\\lib\\site-packages\\selenium\\webdriver\\remote\\webdriver.py\u001b[0m in \u001b[0;36mfind_element_by_xpath\u001b[1;34m(self, xpath)\u001b[0m\n\u001b[0;32m    392\u001b[0m             \u001b[0melement\u001b[0m \u001b[1;33m=\u001b[0m \u001b[0mdriver\u001b[0m\u001b[1;33m.\u001b[0m\u001b[0mfind_element_by_xpath\u001b[0m\u001b[1;33m(\u001b[0m\u001b[1;34m'//div/td[1]'\u001b[0m\u001b[1;33m)\u001b[0m\u001b[1;33m\u001b[0m\u001b[1;33m\u001b[0m\u001b[0m\n\u001b[0;32m    393\u001b[0m         \"\"\"\n\u001b[1;32m--> 394\u001b[1;33m         \u001b[1;32mreturn\u001b[0m \u001b[0mself\u001b[0m\u001b[1;33m.\u001b[0m\u001b[0mfind_element\u001b[0m\u001b[1;33m(\u001b[0m\u001b[0mby\u001b[0m\u001b[1;33m=\u001b[0m\u001b[0mBy\u001b[0m\u001b[1;33m.\u001b[0m\u001b[0mXPATH\u001b[0m\u001b[1;33m,\u001b[0m \u001b[0mvalue\u001b[0m\u001b[1;33m=\u001b[0m\u001b[0mxpath\u001b[0m\u001b[1;33m)\u001b[0m\u001b[1;33m\u001b[0m\u001b[1;33m\u001b[0m\u001b[0m\n\u001b[0m\u001b[0;32m    395\u001b[0m \u001b[1;33m\u001b[0m\u001b[0m\n\u001b[0;32m    396\u001b[0m     \u001b[1;32mdef\u001b[0m \u001b[0mfind_elements_by_xpath\u001b[0m\u001b[1;33m(\u001b[0m\u001b[0mself\u001b[0m\u001b[1;33m,\u001b[0m \u001b[0mxpath\u001b[0m\u001b[1;33m)\u001b[0m\u001b[1;33m:\u001b[0m\u001b[1;33m\u001b[0m\u001b[1;33m\u001b[0m\u001b[0m\n",
      "\u001b[1;32mF:\\anaconda\\lib\\site-packages\\selenium\\webdriver\\remote\\webdriver.py\u001b[0m in \u001b[0;36mfind_element\u001b[1;34m(self, by, value)\u001b[0m\n\u001b[0;32m    976\u001b[0m         return self.execute(Command.FIND_ELEMENT, {\n\u001b[0;32m    977\u001b[0m             \u001b[1;34m'using'\u001b[0m\u001b[1;33m:\u001b[0m \u001b[0mby\u001b[0m\u001b[1;33m,\u001b[0m\u001b[1;33m\u001b[0m\u001b[1;33m\u001b[0m\u001b[0m\n\u001b[1;32m--> 978\u001b[1;33m             'value': value})['value']\n\u001b[0m\u001b[0;32m    979\u001b[0m \u001b[1;33m\u001b[0m\u001b[0m\n\u001b[0;32m    980\u001b[0m     \u001b[1;32mdef\u001b[0m \u001b[0mfind_elements\u001b[0m\u001b[1;33m(\u001b[0m\u001b[0mself\u001b[0m\u001b[1;33m,\u001b[0m \u001b[0mby\u001b[0m\u001b[1;33m=\u001b[0m\u001b[0mBy\u001b[0m\u001b[1;33m.\u001b[0m\u001b[0mID\u001b[0m\u001b[1;33m,\u001b[0m \u001b[0mvalue\u001b[0m\u001b[1;33m=\u001b[0m\u001b[1;32mNone\u001b[0m\u001b[1;33m)\u001b[0m\u001b[1;33m:\u001b[0m\u001b[1;33m\u001b[0m\u001b[1;33m\u001b[0m\u001b[0m\n",
      "\u001b[1;32mF:\\anaconda\\lib\\site-packages\\selenium\\webdriver\\remote\\webdriver.py\u001b[0m in \u001b[0;36mexecute\u001b[1;34m(self, driver_command, params)\u001b[0m\n\u001b[0;32m    319\u001b[0m         \u001b[0mresponse\u001b[0m \u001b[1;33m=\u001b[0m \u001b[0mself\u001b[0m\u001b[1;33m.\u001b[0m\u001b[0mcommand_executor\u001b[0m\u001b[1;33m.\u001b[0m\u001b[0mexecute\u001b[0m\u001b[1;33m(\u001b[0m\u001b[0mdriver_command\u001b[0m\u001b[1;33m,\u001b[0m \u001b[0mparams\u001b[0m\u001b[1;33m)\u001b[0m\u001b[1;33m\u001b[0m\u001b[1;33m\u001b[0m\u001b[0m\n\u001b[0;32m    320\u001b[0m         \u001b[1;32mif\u001b[0m \u001b[0mresponse\u001b[0m\u001b[1;33m:\u001b[0m\u001b[1;33m\u001b[0m\u001b[1;33m\u001b[0m\u001b[0m\n\u001b[1;32m--> 321\u001b[1;33m             \u001b[0mself\u001b[0m\u001b[1;33m.\u001b[0m\u001b[0merror_handler\u001b[0m\u001b[1;33m.\u001b[0m\u001b[0mcheck_response\u001b[0m\u001b[1;33m(\u001b[0m\u001b[0mresponse\u001b[0m\u001b[1;33m)\u001b[0m\u001b[1;33m\u001b[0m\u001b[1;33m\u001b[0m\u001b[0m\n\u001b[0m\u001b[0;32m    322\u001b[0m             response['value'] = self._unwrap_value(\n\u001b[0;32m    323\u001b[0m                 response.get('value', None))\n",
      "\u001b[1;32mF:\\anaconda\\lib\\site-packages\\selenium\\webdriver\\remote\\errorhandler.py\u001b[0m in \u001b[0;36mcheck_response\u001b[1;34m(self, response)\u001b[0m\n\u001b[0;32m    240\u001b[0m                 \u001b[0malert_text\u001b[0m \u001b[1;33m=\u001b[0m \u001b[0mvalue\u001b[0m\u001b[1;33m[\u001b[0m\u001b[1;34m'alert'\u001b[0m\u001b[1;33m]\u001b[0m\u001b[1;33m.\u001b[0m\u001b[0mget\u001b[0m\u001b[1;33m(\u001b[0m\u001b[1;34m'text'\u001b[0m\u001b[1;33m)\u001b[0m\u001b[1;33m\u001b[0m\u001b[1;33m\u001b[0m\u001b[0m\n\u001b[0;32m    241\u001b[0m             \u001b[1;32mraise\u001b[0m \u001b[0mexception_class\u001b[0m\u001b[1;33m(\u001b[0m\u001b[0mmessage\u001b[0m\u001b[1;33m,\u001b[0m \u001b[0mscreen\u001b[0m\u001b[1;33m,\u001b[0m \u001b[0mstacktrace\u001b[0m\u001b[1;33m,\u001b[0m \u001b[0malert_text\u001b[0m\u001b[1;33m)\u001b[0m\u001b[1;33m\u001b[0m\u001b[1;33m\u001b[0m\u001b[0m\n\u001b[1;32m--> 242\u001b[1;33m         \u001b[1;32mraise\u001b[0m \u001b[0mexception_class\u001b[0m\u001b[1;33m(\u001b[0m\u001b[0mmessage\u001b[0m\u001b[1;33m,\u001b[0m \u001b[0mscreen\u001b[0m\u001b[1;33m,\u001b[0m \u001b[0mstacktrace\u001b[0m\u001b[1;33m)\u001b[0m\u001b[1;33m\u001b[0m\u001b[1;33m\u001b[0m\u001b[0m\n\u001b[0m\u001b[0;32m    243\u001b[0m \u001b[1;33m\u001b[0m\u001b[0m\n\u001b[0;32m    244\u001b[0m     \u001b[1;32mdef\u001b[0m \u001b[0m_value_or_default\u001b[0m\u001b[1;33m(\u001b[0m\u001b[0mself\u001b[0m\u001b[1;33m,\u001b[0m \u001b[0mobj\u001b[0m\u001b[1;33m,\u001b[0m \u001b[0mkey\u001b[0m\u001b[1;33m,\u001b[0m \u001b[0mdefault\u001b[0m\u001b[1;33m)\u001b[0m\u001b[1;33m:\u001b[0m\u001b[1;33m\u001b[0m\u001b[1;33m\u001b[0m\u001b[0m\n",
      "\u001b[1;31mNoSuchElementException\u001b[0m: Message: no such element: Unable to locate element: {\"method\":\"xpath\",\"selector\":\"//*[@id=\"main\"]/div/div[4]/div[3]/div[1]/div/div/div[2]/div/section/div/div/div[2]/section/ol/div[6]/li/div[2]/div/div[1]\"}\n  (Session info: chrome=79.0.3945.130)\n"
     ]
    }
   ],
   "source": [
    "from selenium import webdriver\n",
    "from selenium.webdriver.common.keys import Keys\n",
    "import time\n",
    "\n",
    "\n",
    "driver = webdriver.Chrome(executable_path=\"C:\\\\chromedriver.exe\")\n",
    "\n",
    "driver.get('https://open.spotify.com/')\n",
    "\n",
    "new_music_friday = driver.find_element_by_xpath('/html/body/div[2]/div/div[4]/div[3]/div[1]/div/div/section/div/section/div/div[3]/div/section/div/div[2]/div/div/div[4]')\n",
    "new_music_friday.click()\n",
    "\n",
    "time.sleep(3)#kyunki jo page generate hi nhi hua(niche wala prog) usko access kaise krenge...isliye to temporarily stop program execution\n",
    "\n",
    "for i in range(1, 94):\n",
    "    \n",
    "    try:\n",
    "    \n",
    "        xpath = '//*[@id=\"main\"]/div/div[4]/div[3]/div[1]/div/div/div[2]/div/section/div/div/div[2]/section/ol/div[' + str(i) + ']/div/li/div[2]/div/div[1]'\n",
    "        elem = driver.find_element_by_xpath(xpath)\n",
    "        print(elem.text,end=\"--->\")\n",
    "\n",
    "        xpath2 = '/html/body/div[2]/div/div[4]/div[3]/div[1]/div/div/div[2]/div/section/div/div/div[2]/section/ol/div['+ str(i)+']/div/li/div[2]/div/div[2]/span[1]/span/span/a'\n",
    "        elem2 = driver.find_element_by_xpath(xpath2)\n",
    "        print(elem2.text,end=\"--->\")\n",
    "    \n",
    "        xpath3='/html/body/div[2]/div/div[4]/div[3]/div[1]/div/div/div[2]/div/section/div/div/div[2]/section/ol/div['+ str(i) +']/div/li/div[4]/div/span'\n",
    "        elem3 = driver.find_element_by_xpath(xpath3)\n",
    "        print(elem3.text)\n",
    "        print()\n",
    "    except:\n",
    "        xpath = '//*[@id=\"main\"]/div/div[4]/div[3]/div[1]/div/div/div[2]/div/section/div/div/div[2]/section/ol/div[' + str(i) + ']/li/div[2]/div/div[1]'\n",
    "        elem = driver.find_element_by_xpath(xpath)\n",
    "        print(elem.text,end=\"--->\")\n",
    "        try:\n",
    "            xpath2='/html/body/div[2]/div/div[4]/div[3]/div[1]/div/div/div[2]/div/section/div/div/div[2]/section/ol/div[' + str(i) + ']/li/div[2]/div/div[2]/span[2]/span/span/a'\n",
    "            elem2 = driver.find_element_by_xpath(xpath2)\n",
    "            print(elem2.text,end=\"--->\")\n",
    "        except:\n",
    "            xpath2='/html/body/div[2]/div/div[4]/div[3]/div[1]/div/div/div[2]/div/section/div/div/div[2]/section/ol/div[' + str(i) + ']/li/div[2]/div/div[2]/span[1]/span/span/a'\n",
    "            elem2 = driver.find_element_by_xpath(xpath2)\n",
    "            print(elem2.text,end=\"--->\")\n",
    "            \n",
    "       \n",
    "\n",
    "        xpath3='/html/body/div[2]/div/div[4]/div[3]/div[1]/div/div/div[2]/div/section/div/div/div[2]/section/ol/div['+str(i) +']/li/div[4]/div/span'\n",
    "        elem3 = driver.find_element_by_xpath(xpath3)\n",
    "        print(elem3.text)\n",
    "        print()\n",
    "       \n",
    "        \n",
    "driver.close()"
   ]
  },
  {
   "cell_type": "code",
   "execution_count": null,
   "metadata": {},
   "outputs": [],
   "source": []
  }
 ],
 "metadata": {
  "kernelspec": {
   "display_name": "Python 3",
   "language": "python",
   "name": "python3"
  },
  "language_info": {
   "codemirror_mode": {
    "name": "ipython",
    "version": 3
   },
   "file_extension": ".py",
   "mimetype": "text/x-python",
   "name": "python",
   "nbconvert_exporter": "python",
   "pygments_lexer": "ipython3",
   "version": "3.7.6"
  }
 },
 "nbformat": 4,
 "nbformat_minor": 2
}
